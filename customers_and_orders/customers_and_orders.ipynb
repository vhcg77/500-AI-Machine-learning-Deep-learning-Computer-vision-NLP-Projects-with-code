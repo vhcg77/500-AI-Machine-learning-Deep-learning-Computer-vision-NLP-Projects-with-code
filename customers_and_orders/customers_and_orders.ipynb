{
  "cells": [
    {
      "cell_type": "markdown",
      "metadata": {
        "id": "piiX_CRNFYUi"
      },
      "source": [
        "# Technical Challenge ! Custiomers and Orders - The lifeblood of any business!\n",
        "\n",
        "This notebook depends on two data files: customers.scv and orders.csv. These files are hosted in the cloud (or Github), so for simplicity, we are providing you with the code to download and save the two files in a folder called 'sample_data' which lives within this notebook session (not on your local computer nor Google Drive).\n",
        "\n",
        "![sample_data folder in notebook session](https://raw.githubusercontent.com/anyoneai/notebooks/main/customers_and_orders/images/sample_data_folder.png)\n",
        "\n",
        "Please execute the first code snippet before moving to the rest of the exercise as this code will import the data from the files for you to be able to execute the rest of the exercise.\n",
        "\n",
        "Remember as we said in the previous lecture, you have to save this notebook into your Google Drive by going to menu File/Save a Copy In Drive, or clicking in the button \"Copy to Drive\". This way, you will not lose any work you've done and the file will persist with your latest changes in your Google Drive. Also we recommend you to rename your .ipynb in your Google Drive, so you can easily find it in the future."
      ]
    },
    {
      "cell_type": "code",
      "execution_count": 1,
      "metadata": {
        "colab": {
          "base_uri": "https://localhost:8080/"
        },
        "id": "MWpVO242FQHC",
        "outputId": "1028060b-aeff-4d48-91b7-1a33c11f908e"
      },
      "outputs": [
        {
          "output_type": "stream",
          "name": "stdout",
          "text": [
            "Customers and orders CSV files have been added './sample_data'\n"
          ]
        }
      ],
      "source": [
        "import requests\n",
        "\n",
        "def import_data_files():\n",
        "  r = requests.get('https://raw.githubusercontent.com/anyoneai/notebooks/main/customers_and_orders/data/customers.csv')\n",
        "  with open('./sample_data/customers.csv', 'wb') as f:\n",
        "    f.write(r.content)\n",
        "\n",
        "  r = requests.get('https://raw.githubusercontent.com/anyoneai/notebooks/main/customers_and_orders/data/orders.csv')\n",
        "  with open('./sample_data/orders.csv', 'wb') as f:\n",
        "    f.write(r.content)\n",
        "\n",
        "import_data_files()\n",
        "print(\"Customers and orders CSV files have been added './sample_data'\")"
      ]
    },
    {
      "cell_type": "markdown",
      "metadata": {
        "id": "JQAduY-RWKyB"
      },
      "source": [
        "# Exercise 1: Processing Customers data (difficulty medium)\n",
        "\n",
        "The sample customer data in 'customers.csv' file has just 5 columns: CustomerId, First Name, Last Name, City and State\n",
        "\n",
        "![Data sample](https://raw.githubusercontent.com/anyoneai/notebooks/main/customers_and_orders/images/customers.png)\n",
        "\n",
        "We strongly recommend that you complete from the [Prep Course: Intro to Python](https://colab.research.google.com/github/anyoneai/notebooks/blob/main/python3_crash_course.ipynb) the following section:\n",
        "- Section 7: File I/O (to understand how to read CSV file)\n",
        "- Section 6: For Loop (to navigate the contents of the CSV file)\n",
        "- Section 5: Tuples, Lists, and Dictionaries (to manipulate the data of the CSV file)\n",
        "\n",
        "With this, we hope you can complete this exercise successfully. Although if you want to solve this with libraries or any other way, you are welcome to do it your way.\n",
        "\n",
        "*Hint:* We advise you to take a look at the data before you start.\n",
        "**if you want to manually take a look at the data before you start, please see the content of the data [here](https://github.com/anyoneai/notebooks/blob/main/customers_and_orders/data/customers.csv).\n",
        "\n",
        "*Hint*: There are many ways to do this exercise you can do your own, although here's some help. You can solve this exercise reading and parsing CSV files, structuring data into dictionaries, and using for loops to navigate the contents\n",
        "\n",
        "*Hint*: Also, keep in mind that data might not be clean and you might have to figure out how to deal with that data from the code, without having to modify the data source.\n",
        "\n",
        "Below are the 5 questions you'll have to answer to pass the evaluation:"
      ]
    },
    {
      "cell_type": "markdown",
      "metadata": {
        "id": "kJq7S8sBfbOW"
      },
      "source": [
        "**Question 1:** How many customers are in the file?\n",
        "(as help, we have added some comments and starter code to help you structure the solution)"
      ]
    },
    {
      "cell_type": "code",
      "execution_count": 3,
      "metadata": {
        "colab": {
          "base_uri": "https://localhost:8080/"
        },
        "id": "oMnUFBFb2RUb",
        "outputId": "b4c8aea0-1d63-4bbe-a4c4-2d1b108c0e7d"
      },
      "outputs": [
        {
          "output_type": "stream",
          "name": "stdout",
          "text": [
            "Total number of customers: 602\n",
            "All done!\n"
          ]
        }
      ],
      "source": [
        "from os.path import exists\n",
        "import csv\n",
        "\n",
        "# check if file can be found and open the file\n",
        "datafile = \"./sample_data/customers.csv\"\n",
        "if not exists(datafile):\n",
        "  raise SystemExit(\"You should run the first code cell and download the dataset files!\")\n",
        "\n",
        "# customers file is in the sample_data folder and can be opened.\n",
        "# Using csv reader is one way of dealing with the file\n",
        "# but it's up to you how you want to proceed\n",
        "with open(datafile, 'r') as fl:\n",
        "  csvreader = csv.reader(fl, delimiter=',')\n",
        "\n",
        "  # loop through the rows and count etc. THE REST IS UP TO YOU!\n",
        "  header=next(csvreader)\n",
        "\n",
        "\n",
        "  # Count customer\n",
        "  customer_count = 0\n",
        "  for row in csvreader:\n",
        "    if row:\n",
        "      customer_count += 1\n",
        "\n",
        "print(f\"Total number of customers: {customer_count}\")\n",
        "print(\"All done!\")"
      ]
    },
    {
      "cell_type": "markdown",
      "metadata": {
        "id": "uffBnNgz_570"
      },
      "source": [
        "**Question 2:** In how many different states do the customers live in?"
      ]
    },
    {
      "cell_type": "code",
      "execution_count": 8,
      "metadata": {
        "id": "Bi_yid0sMe3-",
        "colab": {
          "base_uri": "https://localhost:8080/"
        },
        "outputId": "dfd10fe2-798f-4bff-cc45-1938cddd25a0"
      },
      "outputs": [
        {
          "output_type": "stream",
          "name": "stdout",
          "text": [
            "\n",
            "=== Content Evaluation ===\n",
            "\n",
            "Common cities:\n",
            "  Los Angeles: 120 Customers\n",
            "  Pasadena: 17 Customers\n",
            "  San Diego: 13 Customers\n",
            "  Downey: 12 Customers\n",
            "  Long Beach: 12 Customers\n",
            "\n",
            "States:\n",
            "  CA: 568 customers\n",
            "  AZ: 6 customers\n",
            "  NV: 8 customers\n",
            "  FL: 3 customers\n",
            "  WA: 1 customers\n",
            "  NH: 1 customers\n",
            "  ID: 1 customers\n",
            "  CO: 3 customers\n",
            "  TX: 2 customers\n",
            "  NM: 3 customers\n",
            "  OR: 1 customers\n",
            "  UT: 2 customers\n",
            "  MA: 1 customers\n",
            "  IN: 1 customers\n",
            "\n",
            "IDs duplicated customers: 97\n",
            "  ID 1902451 appears 2 times\n",
            "  ID 1906377 appears 2 times\n",
            "  ID 1500181 appears 2 times\n",
            "  ID 4301400 appears 2 times\n",
            "  ID 701684 appears 3 times\n",
            "  ID 4302023 appears 3 times\n",
            "  ID 5172200 appears 2 times\n",
            "  ID 5173013 appears 2 times\n",
            "  ID 1905150 appears 3 times\n",
            "  ID 4302052 appears 2 times\n",
            "  ID 1907428 appears 2 times\n",
            "  ID 5370863 appears 2 times\n",
            "  ID 1900610 appears 3 times\n",
            "  ID 5100330 appears 2 times\n",
            "  ID 1904538 appears 2 times\n",
            "  ID 1500339 appears 2 times\n",
            "  ID 1909384 appears 4 times\n",
            "  ID 5172086 appears 2 times\n",
            "  ID 1904932 appears 2 times\n",
            "  ID 900635 appears 2 times\n",
            "  ID 5774 appears 2 times\n",
            "  ID 5053 appears 3 times\n",
            "  ID 5173800 appears 2 times\n",
            "  ID 900590 appears 2 times\n",
            "  ID 5572 appears 3 times\n",
            "  ID 5371026 appears 2 times\n",
            "  ID 902503 appears 2 times\n",
            "  ID 903743 appears 2 times\n",
            "  ID 5101829 appears 2 times\n",
            "  ID 4301487 appears 2 times\n",
            "  ID 1907925 appears 3 times\n",
            "  ID 4300081 appears 3 times\n",
            "  ID 5078 appears 3 times\n",
            "  ID 5370196 appears 2 times\n",
            "  ID 6194 appears 2 times\n",
            "  ID 5173650 appears 2 times\n",
            "  ID 5972 appears 2 times\n",
            "  ID 1901469 appears 2 times\n",
            "  ID 900569 appears 2 times\n",
            "  ID 7639 appears 2 times\n",
            "  ID 8091 appears 2 times\n",
            "  ID 703330 appears 3 times\n",
            "  ID 4300670 appears 3 times\n",
            "  ID 5945 appears 3 times\n",
            "  ID 5463 appears 5 times\n",
            "  ID 5370200 appears 2 times\n",
            "  ID 5431 appears 3 times\n",
            "  ID 5227 appears 2 times\n",
            "  ID 4300754 appears 2 times\n",
            "  ID 701258 appears 2 times\n",
            "  ID 1904821 appears 2 times\n",
            "  ID 1903794 appears 2 times\n",
            "  ID 1907812 appears 2 times\n",
            "  ID 6177 appears 3 times\n",
            "  ID 9387 appears 2 times\n",
            "  ID 703804 appears 3 times\n",
            "  ID 1905938 appears 2 times\n",
            "  ID 7901 appears 2 times\n",
            "  ID 4301117 appears 4 times\n",
            "  ID 5173498 appears 2 times\n",
            "  ID 5100834 appears 2 times\n",
            "  ID 5100984 appears 2 times\n",
            "  ID 5173018 appears 2 times\n",
            "  ID 5173895 appears 2 times\n",
            "  ID 5370163 appears 2 times\n",
            "  ID 701419 appears 3 times\n",
            "  ID 5173938 appears 2 times\n",
            "  ID 4301217 appears 2 times\n",
            "  ID 5370378 appears 2 times\n",
            "  ID 20850 appears 2 times\n",
            "  ID 1908934 appears 2 times\n",
            "  ID 5100785 appears 2 times\n",
            "  ID 7812 appears 2 times\n",
            "  ID 700771 appears 4 times\n",
            "  ID 902139 appears 3 times\n",
            "  ID 10986 appears 5 times\n",
            "  ID 5173749 appears 2 times\n",
            "  ID 23898 appears 3 times\n",
            "  ID 902536 appears 2 times\n",
            "  ID 1904133 appears 4 times\n",
            "  ID 23107 appears 2 times\n",
            "  ID 5172760 appears 2 times\n",
            "  ID 901063 appears 2 times\n",
            "  ID 5100779 appears 2 times\n",
            "  ID 1909369 appears 3 times\n",
            "  ID 903601 appears 3 times\n",
            "  ID 11321 appears 2 times\n",
            "  ID 4301362 appears 2 times\n",
            "  ID 5370415 appears 2 times\n",
            "  ID 1904886 appears 2 times\n",
            "  ID 8259 appears 2 times\n",
            "  ID 4301885 appears 2 times\n",
            "  ID 20471 appears 2 times\n",
            "  ID 5446 appears 2 times\n",
            "  ID 4301100 appears 2 times\n",
            "  ID 3900068 appears 2 times\n",
            "  ID 5370111 appears 2 times\n",
            "\n",
            "Total count of unique cities: 216\n",
            "\n",
            "Total count of unique states: 14\n",
            "All Done\n"
          ]
        }
      ],
      "source": [
        "# open file and init vars\n",
        "# evaluate the contents of the file\n",
        "\n",
        "\n",
        "from os.path import exists\n",
        "import csv\n",
        "from collections import Counter\n",
        "\n",
        "\n",
        "# Check if file can be found and open the file\n",
        "datafile = \"./sample_data/customers.csv\"\n",
        "if not exists(datafile):\n",
        "  raise SystemExit(\"You should run the first code cell and download the dataset files!\")\n",
        "\n",
        "# Open file and init vars\n",
        "with open(datafile, 'r') as fl:\n",
        "  csvreader = csv.reader(fl, delimiter=',')\n",
        "  header=next(csvreader)\n",
        "\n",
        "  #Get headers:\n",
        "  header = next(csvreader)\n",
        "\n",
        "  #Initialize variables for evaluation\n",
        "  customer_count = 0\n",
        "  cities = []\n",
        "  states = []\n",
        "  customer_ids = []\n",
        "  first_names = []\n",
        "  last_names = []\n",
        "\n",
        "  # evaluate the contents of the file\n",
        "  for row in csvreader:\n",
        "    if row:\n",
        "      customer_count += 1\n",
        "      # Extraer datos de cada columna\n",
        "      customer_id = row[0]\n",
        "      first_name = row[1]\n",
        "      last_name = row[2]\n",
        "      city = row[3]\n",
        "      state = row[4].strip().upper()\n",
        "\n",
        "      # Agregar a las listas para análisis\n",
        "      customer_ids.append(customer_id)\n",
        "      first_names.append(first_name)\n",
        "      last_names.append(last_name)\n",
        "      cities.append(city)\n",
        "      states.append(state)\n",
        "\n",
        "\n",
        "\n",
        "# Result analysis\n",
        "print(f\"\\n=== Content Evaluation ===\")\n",
        "# City analysis\n",
        "city_counts = Counter(cities)\n",
        "print(f\"\\nCommon cities:\")\n",
        "for city, count in city_counts.most_common(5):\n",
        "  print(f\"  {city}: {count} Customers\")\n",
        "\n",
        "# Análisis de estados\n",
        "state_counts = Counter(states)\n",
        "print(f\"\\nStates:\")\n",
        "for state, count in state_counts.items():\n",
        "  print(f\"  {state}: {count} customers\")\n",
        "\n",
        "# Verificar IDs duplicados\n",
        "duplicate_ids = [id for id, count in Counter(customer_ids).items() if count > 1]\n",
        "if duplicate_ids:\n",
        "  print(f\"\\nIDs duplicated customers: {len(duplicate_ids)}\")\n",
        "  for dup_id in duplicate_ids:\n",
        "    print(f\"  ID {dup_id} appears {Counter(customer_ids)[dup_id]} times\")\n",
        "else:\n",
        "  print(f\"\\nEeach ID is unique.\")\n",
        "\n",
        "print(f\"\\nTotal count of unique cities: {len(set(cities))}\")\n",
        "print(f\"\\nTotal count of unique states: {len(set(states))}\")\n",
        "\n",
        "print(\"All Done\")\n"
      ]
    },
    {
      "cell_type": "markdown",
      "metadata": {
        "id": "DC59SZYiMfNY"
      },
      "source": [
        "**Question 3** What is the state with most customers?"
      ]
    },
    {
      "cell_type": "code",
      "execution_count": null,
      "metadata": {
        "id": "tfGU3w-OMhA9"
      },
      "outputs": [],
      "source": [
        "# open file and init vars\n",
        "# evaluate the contents of the file\n",
        "\n",
        "from os.path import exists\n",
        "import csv\n",
        "from collections import Counter\n",
        "\n",
        "# open file and init vars\n",
        "datafile = \"./sample_data/customers.csv\"\n",
        "if not exists(datafile):\n",
        "    raise SystemExit(\"You should run the first code cell and download the dataset files!\")\n",
        "\n",
        "# evaluate the contents of the file\n",
        "with open(datafile, 'r') as fl:\n",
        "    csvreader = csv.reader(fl, delimiter=',')\n",
        "    header = next(csvreader)\n",
        "\n",
        "    states = []\n",
        "\n",
        "    for row in csvreader:\n",
        "        if row:\n",
        "            # Clean and normalize state column\n",
        "            state = row[4].strip().upper()\n",
        "            states.append(state)\n",
        "\n",
        "# Find the state with the most count of customers\n",
        "state_counts = Counter(states)\n",
        "most_common_state = state_counts.most_common(1)[0]\n",
        "\n",
        "print(f\"=== Question 3 Answer ===\")\n",
        "print(f\"The state with most customers is: {most_common_state[0]} with {most_common_state[1]} customers\")\n",
        "\n",
        "# Show top 5 for more context\n",
        "print(f\"\\nTop 5 states by customer count:\")\n",
        "for state, count in state_counts.most_common(5):\n",
        "    print(f\"  {state}: {count} customers\")"
      ]
    },
    {
      "cell_type": "markdown",
      "metadata": {
        "id": "7mcM6cUAMhLB"
      },
      "source": [
        "**Question 4** What is the state with the least customers?"
      ]
    },
    {
      "cell_type": "code",
      "execution_count": null,
      "metadata": {
        "id": "8T0Ka2RqMi3P"
      },
      "outputs": [],
      "source": [
        "# open file and init vars\n",
        "# evaluate the contents of the file"
      ]
    },
    {
      "cell_type": "markdown",
      "metadata": {
        "id": "h6fIy7hXHF6A"
      },
      "source": [
        "**Question 5:** What is the most common last name?"
      ]
    },
    {
      "cell_type": "code",
      "execution_count": null,
      "metadata": {
        "id": "k8M1DmA75Km7"
      },
      "outputs": [],
      "source": [
        "# open file and init vars\n",
        "# evaluate the contents of the file"
      ]
    },
    {
      "cell_type": "markdown",
      "metadata": {
        "id": "YPRma1t9NoFk"
      },
      "source": [
        "# Exercise 2: Processing Orders data (difficulty high)\n",
        "\n",
        "The second sample files contains orders placed by customers from the first file. Be careful, this file has many rows and you most likely should not print the contents of the whole file.\n",
        "\n",
        "The file contains the following columns: CustomerID, OrderID, Date, OrderTotal, ProductName, Price\n",
        "\n",
        "![Data sample](https://raw.githubusercontent.com/anyoneai/notebooks/main/customers_and_orders/images/orders.png)\n",
        "\n",
        "*Hint:* We advise you to take a look at the data before you start.\n",
        "**if you want to manually take a look at the data before you start, please see the content of the data [here](https://raw.githubusercontent.com/anyoneai/notebooks/main/customers_and_orders/data/orders.csv).\n",
        "\n",
        "*Hint*: There are many ways to do this exercise you can do your own, although here's some help. You can solve this exercise reading and parsing CSV files, structuring data into dictionaries, and using for loops to navigate the contents\n",
        "\n",
        "*Hint*: Also, the data is not clean and you will have to figure out how to deal with that data from the code, without having to modify the data source.\n",
        "\n",
        "\n",
        "\n",
        "**Question #1:** How many unique orders are in the orders.csv file?\n",
        "\n",
        "**Question #2:** What is the average number of items per order (rounded to two decimal places)?\n",
        "\n",
        "**Question #3:** What is the highest number of items per order?\n",
        "\n",
        "**Question #4:** What is the number of orders placed in October 2021?\n",
        "\n",
        "**Question #5:** Which customer spent the most amount of money in 2021?\n",
        "\n",
        "**Question #6:** Historically, what is the best month for sales?\n",
        "\n",
        "Once you get your answers, remember to go back to the course and introduce them in the multiple choice quiz"
      ]
    },
    {
      "cell_type": "code",
      "execution_count": null,
      "metadata": {
        "id": "8ipJTrfs5QVM"
      },
      "outputs": [],
      "source": [
        "# open and evaluate orders.csv"
      ]
    },
    {
      "cell_type": "markdown",
      "metadata": {
        "id": "ie0JW4FAk6Os"
      },
      "source": [
        "# Finished!\n",
        "\n",
        "Hope this was not too difficult and slicing and dicing the datasets was some fun. Now head on back to the course and provide the answers to the questions from this exercise."
      ]
    }
  ],
  "metadata": {
    "colab": {
      "name": "customers_and_orders.ipynb",
      "provenance": []
    },
    "kernelspec": {
      "display_name": "Python 3 (ipykernel)",
      "language": "python",
      "name": "python3"
    },
    "language_info": {
      "codemirror_mode": {
        "name": "ipython",
        "version": 3
      },
      "file_extension": ".py",
      "mimetype": "text/x-python",
      "name": "python",
      "nbconvert_exporter": "python",
      "pygments_lexer": "ipython3",
      "version": "3.9.9"
    }
  },
  "nbformat": 4,
  "nbformat_minor": 0
}